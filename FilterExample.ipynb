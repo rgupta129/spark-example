{
 "cells": [
  {
   "cell_type": "code",
   "execution_count": 1,
   "metadata": {
    "collapsed": false,
    "scrolled": true
   },
   "outputs": [
    {
     "name": "stdout",
     "output_type": "stream",
     "text": [
      "(2) file:/etc/hosts MapPartitionsRDD[1] at textFile at NativeMethodAccessorImpl.java:-2 []\n",
      " |  file:/etc/hosts HadoopRDD[0] at textFile at NativeMethodAccessorImpl.java:-2 []\n"
     ]
    }
   ],
   "source": [
    "# Create RDD from local text file\n",
    "rdd = sc.textFile('file:/etc/hosts')\n",
    "print rdd.toDebugString()"
   ]
  },
  {
   "cell_type": "code",
   "execution_count": 2,
   "metadata": {
    "collapsed": false
   },
   "outputs": [
    {
     "name": "stdout",
     "output_type": "stream",
     "text": [
      "(2) PythonRDD[2] at RDD at PythonRDD.scala:42 []\n",
      " |  file:/etc/hosts MapPartitionsRDD[1] at textFile at NativeMethodAccessorImpl.java:-2 []\n",
      " |  file:/etc/hosts HadoopRDD[0] at textFile at NativeMethodAccessorImpl.java:-2 []\n"
     ]
    }
   ],
   "source": [
    "# Apply filter to create a new RDD with lines containing 'localhost' string\n",
    "filetered_rdd = rdd.filter(lambda line: \"localhost\" in line)\n",
    "print filetered_rdd.toDebugString()"
   ]
  },
  {
   "cell_type": "code",
   "execution_count": 3,
   "metadata": {
    "collapsed": false
   },
   "outputs": [
    {
     "name": "stdout",
     "output_type": "stream",
     "text": [
      "# localhost is used to configure the loopback interface\n",
      "127.0.0.1\tlocalhost\n",
      "::1             localhost \n",
      "fe80::1%lo0\tlocalhost\n"
     ]
    }
   ],
   "source": [
    "# Materialize filtered RDD and print each line\n",
    "for line in filetered_rdd.collect():\n",
    "    print line"
   ]
  },
  {
   "cell_type": "code",
   "execution_count": 4,
   "metadata": {
    "collapsed": false
   },
   "outputs": [
    {
     "name": "stdout",
     "output_type": "stream",
     "text": [
      "(2) PythonRDD[2] at RDD at PythonRDD.scala:42 [Memory Serialized 1x Replicated]\n",
      " |  file:/etc/hosts MapPartitionsRDD[1] at textFile at NativeMethodAccessorImpl.java:-2 [Memory Serialized 1x Replicated]\n",
      " |  file:/etc/hosts HadoopRDD[0] at textFile at NativeMethodAccessorImpl.java:-2 [Memory Serialized 1x Replicated]\n"
     ]
    }
   ],
   "source": [
    "# Cache filtered RDD\n",
    "filetered_rdd_cached = filetered_rdd.cache()\n",
    "print filetered_rdd_cached.toDebugString()"
   ]
  },
  {
   "cell_type": "code",
   "execution_count": 5,
   "metadata": {
    "collapsed": false
   },
   "outputs": [
    {
     "name": "stdout",
     "output_type": "stream",
     "text": [
      "(2) PythonRDD[3] at RDD at PythonRDD.scala:42 []\n",
      " |  PythonRDD[2] at RDD at PythonRDD.scala:42 []\n",
      " |  file:/etc/hosts MapPartitionsRDD[1] at textFile at NativeMethodAccessorImpl.java:-2 []\n",
      " |  file:/etc/hosts HadoopRDD[0] at textFile at NativeMethodAccessorImpl.java:-2 []\n"
     ]
    }
   ],
   "source": [
    "# Apply flatMap to spilt line into words\n",
    "flatmapped_rdd = filetered_rdd.flatMap(lambda line: line.split())\n",
    "print flatmapped_rdd.toDebugString()"
   ]
  },
  {
   "cell_type": "code",
   "execution_count": 6,
   "metadata": {
    "collapsed": false
   },
   "outputs": [
    {
     "name": "stdout",
     "output_type": "stream",
     "text": [
      "# 1\n",
      "is 1\n",
      "::1 1\n",
      "localhost 4\n",
      "interface 1\n",
      "the 1\n",
      "127.0.0.1 1\n",
      "to 1\n",
      "used 1\n",
      "configure 1\n",
      "fe80::1%lo0 1\n",
      "loopback 1\n"
     ]
    }
   ],
   "source": [
    "# Word Count\n",
    "wc_one_rdd = flatmapped_rdd.map(lambda word: (word, 1))\n",
    "wc_rdd = wc_one_rdd.reduceByKey(lambda count1, count2: count1 + count2)\n",
    "for word, count in wc_rdd.collect():\n",
    "    print word, count"
   ]
  },
  {
   "cell_type": "code",
   "execution_count": 7,
   "metadata": {
    "collapsed": false
   },
   "outputs": [
    {
     "name": "stdout",
     "output_type": "stream",
     "text": [
      "# 1\n",
      "127.0.0.1 1\n",
      "::1 1\n",
      "configure 1\n",
      "fe80::1%lo0 1\n",
      "interface 1\n",
      "is 1\n",
      "localhost 4\n",
      "loopback 1\n",
      "the 1\n",
      "to 1\n",
      "used 1\n"
     ]
    }
   ],
   "source": [
    "# Sort by key\n",
    "wc_rdd_sorted = wc_rdd.sortByKey()\n",
    "for word, count in wc_rdd_sorted.collect():\n",
    "    print word, count"
   ]
  },
  {
   "cell_type": "code",
   "execution_count": 8,
   "metadata": {
    "collapsed": false
   },
   "outputs": [
    {
     "name": "stdout",
     "output_type": "stream",
     "text": [
      "(2) PythonRDD[16] at collect at <ipython-input-7-0fdef4f82843>:3 []\n",
      " |  MapPartitionsRDD[15] at mapPartitions at PythonRDD.scala:338 []\n",
      " |  ShuffledRDD[14] at partitionBy at NativeMethodAccessorImpl.java:-2 []\n",
      " +-(2) PairwiseRDD[13] at sortByKey at <ipython-input-7-0fdef4f82843>:2 []\n",
      "    |  PythonRDD[12] at sortByKey at <ipython-input-7-0fdef4f82843>:2 []\n",
      "    |  MapPartitionsRDD[8] at mapPartitions at PythonRDD.scala:338 []\n",
      "    |  ShuffledRDD[7] at partitionBy at NativeMethodAccessorImpl.java:-2 []\n",
      "    +-(2) PairwiseRDD[6] at reduceByKey at <ipython-input-6-cc827b39bdfb>:3 []\n",
      "       |  PythonRDD[5] at reduceByKey at <ipython-input-6-cc827b39bdfb>:3 []\n",
      "       |  PythonRDD[2] at RDD at PythonRDD.scala:42 []\n",
      "       |      CachedPartitions: 2; MemorySize: 238.0 B; TachyonSize: 0.0 B; DiskSize: 0.0 B\n",
      "       |  file:/etc/hosts MapPartitionsRDD[1] at textFile at NativeMethodAccessorImpl.java:-2 []\n",
      "       |  file:/etc/hosts HadoopRDD[0] at textFile at NativeMethodAccessorImpl.java:-2 []\n"
     ]
    }
   ],
   "source": [
    "print wc_rdd_sorted.toDebugString()"
   ]
  },
  {
   "cell_type": "code",
   "execution_count": 9,
   "metadata": {
    "collapsed": false
   },
   "outputs": [
    {
     "data": {
      "text/plain": [
       "[4]"
      ]
     },
     "execution_count": 9,
     "metadata": {},
     "output_type": "execute_result"
    }
   ],
   "source": [
    "# Lookup value of key\n",
    "wc_rdd.lookup('localhost')"
   ]
  },
  {
   "cell_type": "code",
   "execution_count": 10,
   "metadata": {
    "collapsed": false
   },
   "outputs": [
    {
     "data": {
      "text/plain": [
       "[1]"
      ]
     },
     "execution_count": 10,
     "metadata": {},
     "output_type": "execute_result"
    }
   ],
   "source": [
    "# Lookup value of key\n",
    "wc_rdd_sorted.lookup('interface')"
   ]
  }
 ],
 "metadata": {
  "kernelspec": {
   "display_name": "Python 2",
   "language": "python",
   "name": "python2"
  },
  "language_info": {
   "codemirror_mode": {
    "name": "ipython",
    "version": 2
   },
   "file_extension": ".py",
   "mimetype": "text/x-python",
   "name": "python",
   "nbconvert_exporter": "python",
   "pygments_lexer": "ipython2",
   "version": "2.7.9"
  }
 },
 "nbformat": 4,
 "nbformat_minor": 0
}
