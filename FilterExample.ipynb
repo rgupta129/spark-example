{
 "cells": [
  {
   "cell_type": "code",
   "execution_count": 8,
   "metadata": {
    "collapsed": false
   },
   "outputs": [
    {
     "data": {
      "text/plain": [
       "'(2) /etc/hosts MapPartitionsRDD[9] at textFile at NativeMethodAccessorImpl.java:-2 []\\n |  /etc/hosts HadoopRDD[8] at textFile at NativeMethodAccessorImpl.java:-2 []'"
      ]
     },
     "execution_count": 8,
     "metadata": {},
     "output_type": "execute_result"
    }
   ],
   "source": [
    "rdd = sc.textFile('/etc/hosts')\n",
    "rdd.toDebugString()"
   ]
  },
  {
   "cell_type": "code",
   "execution_count": 9,
   "metadata": {
    "collapsed": false
   },
   "outputs": [
    {
     "data": {
      "text/plain": [
       "'(2) PythonRDD[10] at RDD at PythonRDD.scala:42 []\\n |  /etc/hosts MapPartitionsRDD[9] at textFile at NativeMethodAccessorImpl.java:-2 []\\n |  /etc/hosts HadoopRDD[8] at textFile at NativeMethodAccessorImpl.java:-2 []'"
      ]
     },
     "execution_count": 9,
     "metadata": {},
     "output_type": "execute_result"
    }
   ],
   "source": [
    "filetered_rdd = rdd.filter(lambda line: \"localhost\" in line)\n",
    "filetered_rdd.toDebugString()"
   ]
  },
  {
   "cell_type": "code",
   "execution_count": 10,
   "metadata": {
    "collapsed": false
   },
   "outputs": [
    {
     "name": "stdout",
     "output_type": "stream",
     "text": [
      "# localhost is used to configure the loopback interface\n",
      "127.0.0.1\tlocalhost\n",
      "::1             localhost \n",
      "fe80::1%lo0\tlocalhost\n"
     ]
    }
   ],
   "source": [
    "for line in filetered_rdd.collect():\n",
    "    print line"
   ]
  },
  {
   "cell_type": "code",
   "execution_count": null,
   "metadata": {
    "collapsed": true
   },
   "outputs": [],
   "source": []
  }
 ],
 "metadata": {
  "kernelspec": {
   "display_name": "Python 2",
   "language": "python",
   "name": "python2"
  },
  "language_info": {
   "codemirror_mode": {
    "name": "ipython",
    "version": 2
   },
   "file_extension": ".py",
   "mimetype": "text/x-python",
   "name": "python",
   "nbconvert_exporter": "python",
   "pygments_lexer": "ipython2",
   "version": "2.7.9"
  }
 },
 "nbformat": 4,
 "nbformat_minor": 0
}
