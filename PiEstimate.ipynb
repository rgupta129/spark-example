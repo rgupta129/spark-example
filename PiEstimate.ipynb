{
 "cells": [
  {
   "cell_type": "code",
   "execution_count": 1,
   "metadata": {
    "collapsed": false
   },
   "outputs": [],
   "source": [
    "from random import random\n",
    "from collections import namedtuple\n",
    "from math import sqrt\n",
    "\n",
    "Coordinate = namedtuple(\"Coordinate\", \"x,y\")\n",
    "def diceWithinQuad():\n",
    "    return Coordinate(x=random(), y=random())\n",
    "\n",
    "def distanceFromCenter(coord):\n",
    "    return sqrt(coord.x * coord.x + coord.y * coord.y)\n",
    "\n",
    "def withinQuadCircle(coord):\n",
    "    return 1 if distanceFromCenter(coord) < 1 else 0\n",
    "\n",
    "sampleCount = 10000\n",
    "samples_rdd = sc.parallelize(xrange(0, sampleCount))\n"
   ]
  },
  {
   "cell_type": "code",
   "execution_count": 2,
   "metadata": {
    "collapsed": false
   },
   "outputs": [],
   "source": [
    "# Conduct the experiment by throwing dice and storing hits as 1s and misses as 0s\n",
    "result_rdd = samples_rdd.map(lambda x: withinQuadCircle(diceWithinQuad()))"
   ]
  },
  {
   "cell_type": "code",
   "execution_count": 3,
   "metadata": {
    "collapsed": false
   },
   "outputs": [],
   "source": [
    "# Count total hits\n",
    "hits = result_rdd.reduce(lambda x, y: x + y)"
   ]
  },
  {
   "cell_type": "code",
   "execution_count": 4,
   "metadata": {
    "collapsed": false
   },
   "outputs": [
    {
     "name": "stdout",
     "output_type": "stream",
     "text": [
      "PI =  3.1576\n"
     ]
    }
   ],
   "source": [
    "# Total area of circle within 4 quads = pi * 1 * 1 = pi\n",
    "# One quad including circle is 1 * 1 = 1\n",
    "# Probability of dice within circle hits / sampleCount = Area of circle within a quad\n",
    "# Combined area of circle within 4 quads = (4 * hits)/ sampleCount = pi\n",
    "pi = (4.0 * hits) / sampleCount\n",
    "print \"PI = \", pi"
   ]
  }
 ],
 "metadata": {
  "kernelspec": {
   "display_name": "Python 2",
   "language": "python",
   "name": "python2"
  },
  "language_info": {
   "codemirror_mode": {
    "name": "ipython",
    "version": 2
   },
   "file_extension": ".py",
   "mimetype": "text/x-python",
   "name": "python",
   "nbconvert_exporter": "python",
   "pygments_lexer": "ipython2",
   "version": "2.7.9"
  }
 },
 "nbformat": 4,
 "nbformat_minor": 0
}
